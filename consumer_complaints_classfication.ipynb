{
  "nbformat": 4,
  "nbformat_minor": 0,
  "metadata": {
    "colab": {
      "name": "consumer_complaints_classfication.ipynb",
      "provenance": [],
      "collapsed_sections": []
    },
    "kernelspec": {
      "name": "python3",
      "display_name": "Python 3"
    },
    "accelerator": "GPU"
  },
  "cells": [
    {
      "cell_type": "markdown",
      "metadata": {
        "id": "Y88bHvFhmiWZ",
        "colab_type": "text"
      },
      "source": [
        "# Consumer complaints classification on US consumer complaints on financial products and company responses\n",
        "\n",
        "*   Multi class classification\n",
        "*   Handling imbalanced class problem \n",
        "*   classfication using XGboost,ANN\n",
        "\n",
        "Dataset : https://www.kaggle.com/cfpb/us-consumer-finance-complaints\n",
        "\n"
      ]
    },
    {
      "cell_type": "markdown",
      "metadata": {
        "id": "ZGHBr5mImT6Y",
        "colab_type": "text"
      },
      "source": [
        "Importing necessary libraries"
      ]
    },
    {
      "cell_type": "code",
      "metadata": {
        "id": "PWAP9XH4EcI6",
        "colab_type": "code",
        "colab": {
          "base_uri": "https://localhost:8080/",
          "height": 74
        },
        "outputId": "3daf82e9-2e9d-416e-c71c-7c0bfcafcbf9"
      },
      "source": [
        "import pandas as pd\n",
        "import numpy as np  \n",
        "pd.set_option('max_colwidth', -1)  \n",
        "from sklearn.feature_extraction.text import TfidfVectorizer\n",
        "import matplotlib.pyplot as plt\n",
        "import re\n",
        "import nltk\n",
        "from nltk.stem.porter import PorterStemmer\n",
        "from sklearn.model_selection import train_test_split\n",
        "\n",
        "import plotly\n",
        "import cufflinks as cf\n",
        "import plotly.offline"
      ],
      "execution_count": 2,
      "outputs": [
        {
          "output_type": "stream",
          "text": [
            "/usr/local/lib/python3.6/dist-packages/ipykernel_launcher.py:3: FutureWarning: Passing a negative integer is deprecated in version 1.0 and will not be supported in future version. Instead, use None to not limit the column width.\n",
            "  This is separate from the ipykernel package so we can avoid doing imports until\n"
          ],
          "name": "stderr"
        }
      ]
    },
    {
      "cell_type": "code",
      "metadata": {
        "id": "hHskGOvmkJTp",
        "colab_type": "code",
        "colab": {}
      },
      "source": [
        "# from google.colab import drive\n",
        "# drive.mount('/content/drive')"
      ],
      "execution_count": 3,
      "outputs": []
    },
    {
      "cell_type": "code",
      "metadata": {
        "id": "_Pm5V93QkXWV",
        "colab_type": "code",
        "colab": {}
      },
      "source": [
        "# import configparser\n",
        "# config = configparser.RawConfigParser()\n",
        "# config.read('/content/drive/My Drive/Colab Notebooks/config_file.txt')\n",
        "\n",
        "# print(config.sections())\n",
        "# username = config.get('kaggle','username')\n",
        "# key = config.get('kaggle','key')"
      ],
      "execution_count": 4,
      "outputs": []
    },
    {
      "cell_type": "markdown",
      "metadata": {
        "id": "UTrYZ4J0k01E",
        "colab_type": "text"
      },
      "source": [
        "Accessing dataset using kaggle API"
      ]
    },
    {
      "cell_type": "code",
      "metadata": {
        "id": "UB8reto2k6MW",
        "colab_type": "code",
        "colab": {}
      },
      "source": [
        "# ! echo '{\"username\":\"dhruvi7070\",\"key\":\"61c3b9a5d9de76ce795023314d58c0d1\"}' > /root/.kaggle/kaggle.json\n",
        "\n",
        "# !kaggle datasets download -d cfpb/us-consumer-finance-complaints"
      ],
      "execution_count": 5,
      "outputs": []
    },
    {
      "cell_type": "code",
      "metadata": {
        "id": "u01-4v3xvm9Z",
        "colab_type": "code",
        "colab": {}
      },
      "source": [
        "# !unzip /content/us-consumer-finance-complaints.zip"
      ],
      "execution_count": 6,
      "outputs": []
    },
    {
      "cell_type": "code",
      "metadata": {
        "id": "IYos8hf4FMfI",
        "colab_type": "code",
        "colab": {}
      },
      "source": [
        "# # data = pd.read_csv('/content/consumer_complaints.csv')\n",
        "# # df = pd.DataFrame(data)\n",
        "# df=pd.read_csv('/content/consumer_complaints.csv',low_memory=False)"
      ],
      "execution_count": 7,
      "outputs": []
    },
    {
      "cell_type": "code",
      "metadata": {
        "id": "zGP0gfVXaryU",
        "colab_type": "code",
        "colab": {
          "base_uri": "https://localhost:8080/",
          "height": 1000
        },
        "outputId": "10c8ccde-8bd8-4c52-b237-90a486ff1eb9"
      },
      "source": [
        "df=pd.read_csv('https://github.com/srivatsan88/YouTubeLI/blob/master/dataset/consumer_compliants.zip?raw=true', compression='zip', sep=',', quotechar='\"')\n",
        "df.head()"
      ],
      "execution_count": 8,
      "outputs": [
        {
          "output_type": "execute_result",
          "data": {
            "text/html": [
              "<div>\n",
              "<style scoped>\n",
              "    .dataframe tbody tr th:only-of-type {\n",
              "        vertical-align: middle;\n",
              "    }\n",
              "\n",
              "    .dataframe tbody tr th {\n",
              "        vertical-align: top;\n",
              "    }\n",
              "\n",
              "    .dataframe thead th {\n",
              "        text-align: right;\n",
              "    }\n",
              "</style>\n",
              "<table border=\"1\" class=\"dataframe\">\n",
              "  <thead>\n",
              "    <tr style=\"text-align: right;\">\n",
              "      <th></th>\n",
              "      <th>Date received</th>\n",
              "      <th>Product</th>\n",
              "      <th>Sub-product</th>\n",
              "      <th>Issue</th>\n",
              "      <th>Sub-issue</th>\n",
              "      <th>Consumer complaint narrative</th>\n",
              "      <th>Company public response</th>\n",
              "      <th>Company</th>\n",
              "      <th>State</th>\n",
              "      <th>ZIP code</th>\n",
              "      <th>Tags</th>\n",
              "      <th>Consumer consent provided?</th>\n",
              "      <th>Submitted via</th>\n",
              "      <th>Date sent to company</th>\n",
              "      <th>Company response to consumer</th>\n",
              "      <th>Timely response?</th>\n",
              "      <th>Consumer disputed?</th>\n",
              "      <th>Complaint ID</th>\n",
              "    </tr>\n",
              "  </thead>\n",
              "  <tbody>\n",
              "    <tr>\n",
              "      <th>0</th>\n",
              "      <td>4/3/2020</td>\n",
              "      <td>Vehicle loan or lease</td>\n",
              "      <td>Loan</td>\n",
              "      <td>Getting a loan or lease</td>\n",
              "      <td>Fraudulent loan</td>\n",
              "      <td>This auto loan was opened on XX/XX/2020 in XXXX, NC with BB &amp; T in my name. I have NEVER been to North Carolina and I have NEVER been a resident. I have filed a dispute twice through my credit bureaus but both times BB &amp; T has claimed that this is an accurate loan. Which I wasn't aware of until today. I have tried to contact BB &amp; T multiple times but I have never gotten through to a live person. I do n't drive and I have never owned a car before. I didn't have any knowledge of this account until I checked XXXXXXXX XXXX  and noticed it. I've tried twice to dispute it. Additionally I never received any bills or information about this account. This is my last resort in trying to remove this fraudulent loan off of my account.</td>\n",
              "      <td>Company has responded to the consumer and the CFPB and chooses not to provide a public response</td>\n",
              "      <td>TRUIST FINANCIAL CORPORATION</td>\n",
              "      <td>PA</td>\n",
              "      <td>None</td>\n",
              "      <td>None</td>\n",
              "      <td>Consent provided</td>\n",
              "      <td>Web</td>\n",
              "      <td>4/3/2020</td>\n",
              "      <td>Closed with explanation</td>\n",
              "      <td>Yes</td>\n",
              "      <td>NaN</td>\n",
              "      <td>3591341</td>\n",
              "    </tr>\n",
              "    <tr>\n",
              "      <th>1</th>\n",
              "      <td>3/12/2020</td>\n",
              "      <td>Debt collection</td>\n",
              "      <td>Payday loan debt</td>\n",
              "      <td>Attempts to collect debt not owed</td>\n",
              "      <td>Debt is not yours</td>\n",
              "      <td>In XXXX of 2019 I noticed a debt for {$620.00} on my credit which i believed was mine I thought speedy cash had bought one of my old debts and sold it to XXXX XXXX XXXX XXXX. I contacted XXXX XXXX XXXX XXXX and after several attempts of giving my full name, nothing came up in their system. I gave my social and the rep said the account popped up but DID NOT tell me that the account was under someone elses name and continued to let me make a payment. The payment was for {$120.00}. Confirmation number-XXXX. After realizing it was not my account, I called back to get my money back and inform them of the mistake. I was told i needed to mail them an FTC report and dispute letter to get my money back. I completed all of this and when i called again they said they transferred the account back to speedy cash for fraud review and I would need to contact them. After contacting them i was again told that i can not get my money back. The issue im having is this representative at XXXX XXXX played blind to obvious fraud and let an innocent person make a payment on someone elses debt and i want my money back.</td>\n",
              "      <td>None</td>\n",
              "      <td>CURO Intermediate Holdings</td>\n",
              "      <td>CO</td>\n",
              "      <td>806XX</td>\n",
              "      <td>None</td>\n",
              "      <td>Consent provided</td>\n",
              "      <td>Web</td>\n",
              "      <td>3/12/2020</td>\n",
              "      <td>Closed with explanation</td>\n",
              "      <td>Yes</td>\n",
              "      <td>NaN</td>\n",
              "      <td>3564184</td>\n",
              "    </tr>\n",
              "    <tr>\n",
              "      <th>2</th>\n",
              "      <td>2/6/2020</td>\n",
              "      <td>Vehicle loan or lease</td>\n",
              "      <td>Loan</td>\n",
              "      <td>Getting a loan or lease</td>\n",
              "      <td>Credit denial</td>\n",
              "      <td>As stated from Capital One, XXXX XX/XX/XXXX and XXXX 2018, My wife and I went to several car dealerships to request for a car loan to get a used car. However, according to their credit requirements unfortunately my credit score was insufficient for the car loan approval at that time. It seemed as though they pulled my credit report multiple times.</td>\n",
              "      <td>None</td>\n",
              "      <td>CAPITAL ONE FINANCIAL CORPORATION</td>\n",
              "      <td>OH</td>\n",
              "      <td>430XX</td>\n",
              "      <td>None</td>\n",
              "      <td>Consent provided</td>\n",
              "      <td>Web</td>\n",
              "      <td>2/6/2020</td>\n",
              "      <td>Closed with explanation</td>\n",
              "      <td>Yes</td>\n",
              "      <td>NaN</td>\n",
              "      <td>3521949</td>\n",
              "    </tr>\n",
              "    <tr>\n",
              "      <th>3</th>\n",
              "      <td>3/6/2020</td>\n",
              "      <td>Checking or savings account</td>\n",
              "      <td>Savings account</td>\n",
              "      <td>Managing an account</td>\n",
              "      <td>Banking errors</td>\n",
              "      <td>Please see CFPB case XXXX. \\n\\nCapital One, in the letter they provided ( and attached to that case as their response ) said this : \" The funds were reversed and sent back to XXXX XXXX XXXX  on XX/XX/XXXX ''. \\n\\nXXXX XXXX XXXX  ( now XXXX XXXX  ) has not received these funds. Staff at XXXX XXXX  - and also staff at the account-holder 's business - have looked for return of my money ( {$650.00} ) and find nothing. \\n\\nCapital One needs to document - actually prove - they returned the funds, as stated in their letter. Capital One must provide electronic information, if the return was made that way, or document the paper check they sent back to XXXX XXXX. \\n\\nI've left 3 messages about this problem for the person who signed the letter ( XXXX ) from Capital One. I have received no call-backs. \\n\\nSummary : Capital One said they returned my money on XX/XX/XXXX : they did not. If they continue claim they did, then they need to prove that.</td>\n",
              "      <td>None</td>\n",
              "      <td>CAPITAL ONE FINANCIAL CORPORATION</td>\n",
              "      <td>CA</td>\n",
              "      <td>None</td>\n",
              "      <td>None</td>\n",
              "      <td>Consent provided</td>\n",
              "      <td>Web</td>\n",
              "      <td>3/6/2020</td>\n",
              "      <td>Closed with explanation</td>\n",
              "      <td>Yes</td>\n",
              "      <td>NaN</td>\n",
              "      <td>3556237</td>\n",
              "    </tr>\n",
              "    <tr>\n",
              "      <th>4</th>\n",
              "      <td>2/14/2020</td>\n",
              "      <td>Debt collection</td>\n",
              "      <td>Medical debt</td>\n",
              "      <td>Attempts to collect debt not owed</td>\n",
              "      <td>Debt is not yours</td>\n",
              "      <td>This debt was incurred due to medical malpractice ( XXXX XXXX XXXX, XXXX, TX ). I asked the doctor to turn over my claim to his malpractice insurance company. This has cost me thousands of dollars to XXXX XXXX XXXX. I am still trying to collect damages from this doctor. He never responded and turned over me to collections Merchants and Professional Collection Bureau , Inc. I sent them a letter describing exactly this issue and instead of not contacting me and verifying my debt they start reporting this debt to the credit reporting agencies. They never verified the debt, like I asked and they never stopped it from being reported when I specifically told them not to, due to the circumstances above.</td>\n",
              "      <td>Company believes it acted appropriately as authorized by contract or law</td>\n",
              "      <td>Merchants and Professional Bureau, Inc.</td>\n",
              "      <td>OH</td>\n",
              "      <td>432XX</td>\n",
              "      <td>None</td>\n",
              "      <td>Consent provided</td>\n",
              "      <td>Web</td>\n",
              "      <td>2/14/2020</td>\n",
              "      <td>Closed with explanation</td>\n",
              "      <td>Yes</td>\n",
              "      <td>NaN</td>\n",
              "      <td>3531704</td>\n",
              "    </tr>\n",
              "  </tbody>\n",
              "</table>\n",
              "</div>"
            ],
            "text/plain": [
              "  Date received                      Product  ... Consumer disputed? Complaint ID\n",
              "0  4/3/2020      Vehicle loan or lease        ... NaN                 3591341    \n",
              "1  3/12/2020     Debt collection              ... NaN                 3564184    \n",
              "2  2/6/2020      Vehicle loan or lease        ... NaN                 3521949    \n",
              "3  3/6/2020      Checking or savings account  ... NaN                 3556237    \n",
              "4  2/14/2020     Debt collection              ... NaN                 3531704    \n",
              "\n",
              "[5 rows x 18 columns]"
            ]
          },
          "metadata": {
            "tags": []
          },
          "execution_count": 8
        }
      ]
    },
    {
      "cell_type": "markdown",
      "metadata": {
        "id": "cCr8qmjQmPUe",
        "colab_type": "text"
      },
      "source": [
        "Calaculating unique count of different classes"
      ]
    },
    {
      "cell_type": "code",
      "metadata": {
        "id": "_RL60wpWvLWH",
        "colab_type": "code",
        "colab": {
          "base_uri": "https://localhost:8080/",
          "height": 147
        },
        "outputId": "4eff93e5-8117-4b70-f01f-7c966ac0c543"
      },
      "source": [
        "df['Product'].value_counts()"
      ],
      "execution_count": 9,
      "outputs": [
        {
          "output_type": "execute_result",
          "data": {
            "text/plain": [
              "Debt collection                21772\n",
              "Credit card or prepaid card    13193\n",
              "Mortgage                       9799 \n",
              "Checking or savings account    7003 \n",
              "Student loan                   2950 \n",
              "Vehicle loan or lease          2736 \n",
              "Name: Product, dtype: int64"
            ]
          },
          "metadata": {
            "tags": []
          },
          "execution_count": 9
        }
      ]
    },
    {
      "cell_type": "code",
      "metadata": {
        "id": "WXBm3pA025Em",
        "colab_type": "code",
        "colab": {
          "base_uri": "https://localhost:8080/",
          "height": 418
        },
        "outputId": "c145e6d8-1fdd-420a-bc41-72dc72f6dd46"
      },
      "source": [
        "df['Product'].value_counts().plot(kind='bar')"
      ],
      "execution_count": 10,
      "outputs": [
        {
          "output_type": "execute_result",
          "data": {
            "text/plain": [
              "<matplotlib.axes._subplots.AxesSubplot at 0x7fb1a8d9add8>"
            ]
          },
          "metadata": {
            "tags": []
          },
          "execution_count": 10
        },
        {
          "output_type": "display_data",
          "data": {
            "image/png": "[encoded data removed]",
            "text/plain": [
              "<Figure size 432x288 with 1 Axes>"
            ]
          },
          "metadata": {
            "tags": [],
            "needs_background": "light"
          }
        }
      ]
    },
    {
      "cell_type": "code",
      "metadata": {
        "id": "hLH93Bp53gFu",
        "colab_type": "code",
        "colab": {
          "base_uri": "https://localhost:8080/",
          "height": 240
        },
        "outputId": "f72113e2-e0d9-4492-9f68-591b75780eb8"
      },
      "source": [
        "df['Company'].value_counts()"
      ],
      "execution_count": 11,
      "outputs": [
        {
          "output_type": "execute_result",
          "data": {
            "text/plain": [
              "CITIBANK, N.A.                           3226\n",
              "CAPITAL ONE FINANCIAL CORPORATION        2711\n",
              "BANK OF AMERICA, NATIONAL ASSOCIATION    2580\n",
              "JPMORGAN CHASE & CO.                     2409\n",
              "WELLS FARGO & COMPANY                    2001\n",
              "                                         ... \n",
              "Michael Haynes & Associates, LLC         1   \n",
              "MEMBER FIRST MORTGAGE, LLC               1   \n",
              "Local Management, LLC                    1   \n",
              "Vander Financial, LLC                    1   \n",
              "Capital Alliance Financial, LLC          1   \n",
              "Name: Company, Length: 2197, dtype: int64"
            ]
          },
          "metadata": {
            "tags": []
          },
          "execution_count": 11
        }
      ]
    },
    {
      "cell_type": "code",
      "metadata": {
        "id": "T1WnEcpY4W0i",
        "colab_type": "code",
        "colab": {}
      },
      "source": [
        "comp_df = df[['Consumer complaint narrative','Product','Company']].rename(columns = {'Consumer complaint narrative':'complaints'})"
      ],
      "execution_count": 12,
      "outputs": []
    },
    {
      "cell_type": "code",
      "metadata": {
        "id": "vBFIJBxD5_1s",
        "colab_type": "code",
        "colab": {
          "base_uri": "https://localhost:8080/",
          "height": 692
        },
        "outputId": "4776ec57-c3ac-4f98-989b-d75becbfe19c"
      },
      "source": [
        "comp_df.head()"
      ],
      "execution_count": 13,
      "outputs": [
        {
          "output_type": "execute_result",
          "data": {
            "text/html": [
              "<div>\n",
              "<style scoped>\n",
              "    .dataframe tbody tr th:only-of-type {\n",
              "        vertical-align: middle;\n",
              "    }\n",
              "\n",
              "    .dataframe tbody tr th {\n",
              "        vertical-align: top;\n",
              "    }\n",
              "\n",
              "    .dataframe thead th {\n",
              "        text-align: right;\n",
              "    }\n",
              "</style>\n",
              "<table border=\"1\" class=\"dataframe\">\n",
              "  <thead>\n",
              "    <tr style=\"text-align: right;\">\n",
              "      <th></th>\n",
              "      <th>complaints</th>\n",
              "      <th>Product</th>\n",
              "      <th>Company</th>\n",
              "    </tr>\n",
              "  </thead>\n",
              "  <tbody>\n",
              "    <tr>\n",
              "      <th>0</th>\n",
              "      <td>This auto loan was opened on XX/XX/2020 in XXXX, NC with BB &amp; T in my name. I have NEVER been to North Carolina and I have NEVER been a resident. I have filed a dispute twice through my credit bureaus but both times BB &amp; T has claimed that this is an accurate loan. Which I wasn't aware of until today. I have tried to contact BB &amp; T multiple times but I have never gotten through to a live person. I do n't drive and I have never owned a car before. I didn't have any knowledge of this account until I checked XXXXXXXX XXXX  and noticed it. I've tried twice to dispute it. Additionally I never received any bills or information about this account. This is my last resort in trying to remove this fraudulent loan off of my account.</td>\n",
              "      <td>Vehicle loan or lease</td>\n",
              "      <td>TRUIST FINANCIAL CORPORATION</td>\n",
              "    </tr>\n",
              "    <tr>\n",
              "      <th>1</th>\n",
              "      <td>In XXXX of 2019 I noticed a debt for {$620.00} on my credit which i believed was mine I thought speedy cash had bought one of my old debts and sold it to XXXX XXXX XXXX XXXX. I contacted XXXX XXXX XXXX XXXX and after several attempts of giving my full name, nothing came up in their system. I gave my social and the rep said the account popped up but DID NOT tell me that the account was under someone elses name and continued to let me make a payment. The payment was for {$120.00}. Confirmation number-XXXX. After realizing it was not my account, I called back to get my money back and inform them of the mistake. I was told i needed to mail them an FTC report and dispute letter to get my money back. I completed all of this and when i called again they said they transferred the account back to speedy cash for fraud review and I would need to contact them. After contacting them i was again told that i can not get my money back. The issue im having is this representative at XXXX XXXX played blind to obvious fraud and let an innocent person make a payment on someone elses debt and i want my money back.</td>\n",
              "      <td>Debt collection</td>\n",
              "      <td>CURO Intermediate Holdings</td>\n",
              "    </tr>\n",
              "    <tr>\n",
              "      <th>2</th>\n",
              "      <td>As stated from Capital One, XXXX XX/XX/XXXX and XXXX 2018, My wife and I went to several car dealerships to request for a car loan to get a used car. However, according to their credit requirements unfortunately my credit score was insufficient for the car loan approval at that time. It seemed as though they pulled my credit report multiple times.</td>\n",
              "      <td>Vehicle loan or lease</td>\n",
              "      <td>CAPITAL ONE FINANCIAL CORPORATION</td>\n",
              "    </tr>\n",
              "    <tr>\n",
              "      <th>3</th>\n",
              "      <td>Please see CFPB case XXXX. \\n\\nCapital One, in the letter they provided ( and attached to that case as their response ) said this : \" The funds were reversed and sent back to XXXX XXXX XXXX  on XX/XX/XXXX ''. \\n\\nXXXX XXXX XXXX  ( now XXXX XXXX  ) has not received these funds. Staff at XXXX XXXX  - and also staff at the account-holder 's business - have looked for return of my money ( {$650.00} ) and find nothing. \\n\\nCapital One needs to document - actually prove - they returned the funds, as stated in their letter. Capital One must provide electronic information, if the return was made that way, or document the paper check they sent back to XXXX XXXX. \\n\\nI've left 3 messages about this problem for the person who signed the letter ( XXXX ) from Capital One. I have received no call-backs. \\n\\nSummary : Capital One said they returned my money on XX/XX/XXXX : they did not. If they continue claim they did, then they need to prove that.</td>\n",
              "      <td>Checking or savings account</td>\n",
              "      <td>CAPITAL ONE FINANCIAL CORPORATION</td>\n",
              "    </tr>\n",
              "    <tr>\n",
              "      <th>4</th>\n",
              "      <td>This debt was incurred due to medical malpractice ( XXXX XXXX XXXX, XXXX, TX ). I asked the doctor to turn over my claim to his malpractice insurance company. This has cost me thousands of dollars to XXXX XXXX XXXX. I am still trying to collect damages from this doctor. He never responded and turned over me to collections Merchants and Professional Collection Bureau , Inc. I sent them a letter describing exactly this issue and instead of not contacting me and verifying my debt they start reporting this debt to the credit reporting agencies. They never verified the debt, like I asked and they never stopped it from being reported when I specifically told them not to, due to the circumstances above.</td>\n",
              "      <td>Debt collection</td>\n",
              "      <td>Merchants and Professional Bureau, Inc.</td>\n",
              "    </tr>\n",
              "  </tbody>\n",
              "</table>\n",
              "</div>"
            ],
            "text/plain": [
              "                                                                                                                                                                                                                                                                                                                                                                                                                                                                                                                                                                                                                                                                                                                                                                                                                                                                                                                                                                                                                                                                                                                                               complaints  ...                                  Company\n",
              "0  This auto loan was opened on XX/XX/2020 in XXXX, NC with BB & T in my name. I have NEVER been to North Carolina and I have NEVER been a resident. I have filed a dispute twice through my credit bureaus but both times BB & T has claimed that this is an accurate loan. Which I wasn't aware of until today. I have tried to contact BB & T multiple times but I have never gotten through to a live person. I do n't drive and I have never owned a car before. I didn't have any knowledge of this account until I checked XXXXXXXX XXXX  and noticed it. I've tried twice to dispute it. Additionally I never received any bills or information about this account. This is my last resort in trying to remove this fraudulent loan off of my account.                                                                                                                                                                                                                                                                                                                                                                                             ...  TRUIST FINANCIAL CORPORATION           \n",
              "1  In XXXX of 2019 I noticed a debt for {$620.00} on my credit which i believed was mine I thought speedy cash had bought one of my old debts and sold it to XXXX XXXX XXXX XXXX. I contacted XXXX XXXX XXXX XXXX and after several attempts of giving my full name, nothing came up in their system. I gave my social and the rep said the account popped up but DID NOT tell me that the account was under someone elses name and continued to let me make a payment. The payment was for {$120.00}. Confirmation number-XXXX. After realizing it was not my account, I called back to get my money back and inform them of the mistake. I was told i needed to mail them an FTC report and dispute letter to get my money back. I completed all of this and when i called again they said they transferred the account back to speedy cash for fraud review and I would need to contact them. After contacting them i was again told that i can not get my money back. The issue im having is this representative at XXXX XXXX played blind to obvious fraud and let an innocent person make a payment on someone elses debt and i want my money back.  ...  CURO Intermediate Holdings             \n",
              "2  As stated from Capital One, XXXX XX/XX/XXXX and XXXX 2018, My wife and I went to several car dealerships to request for a car loan to get a used car. However, according to their credit requirements unfortunately my credit score was insufficient for the car loan approval at that time. It seemed as though they pulled my credit report multiple times.                                                                                                                                                                                                                                                                                                                                                                                                                                                                                                                                                                                                                                                                                                                                                                                           ...  CAPITAL ONE FINANCIAL CORPORATION      \n",
              "3  Please see CFPB case XXXX. \\n\\nCapital One, in the letter they provided ( and attached to that case as their response ) said this : \" The funds were reversed and sent back to XXXX XXXX XXXX  on XX/XX/XXXX ''. \\n\\nXXXX XXXX XXXX  ( now XXXX XXXX  ) has not received these funds. Staff at XXXX XXXX  - and also staff at the account-holder 's business - have looked for return of my money ( {$650.00} ) and find nothing. \\n\\nCapital One needs to document - actually prove - they returned the funds, as stated in their letter. Capital One must provide electronic information, if the return was made that way, or document the paper check they sent back to XXXX XXXX. \\n\\nI've left 3 messages about this problem for the person who signed the letter ( XXXX ) from Capital One. I have received no call-backs. \\n\\nSummary : Capital One said they returned my money on XX/XX/XXXX : they did not. If they continue claim they did, then they need to prove that.                                                                                                                                                                     ...  CAPITAL ONE FINANCIAL CORPORATION      \n",
              "4  This debt was incurred due to medical malpractice ( XXXX XXXX XXXX, XXXX, TX ). I asked the doctor to turn over my claim to his malpractice insurance company. This has cost me thousands of dollars to XXXX XXXX XXXX. I am still trying to collect damages from this doctor. He never responded and turned over me to collections Merchants and Professional Collection Bureau , Inc. I sent them a letter describing exactly this issue and instead of not contacting me and verifying my debt they start reporting this debt to the credit reporting agencies. They never verified the debt, like I asked and they never stopped it from being reported when I specifically told them not to, due to the circumstances above.                                                                                                                                                                                                                                                                                                                                                                                                                       ...  Merchants and Professional Bureau, Inc.\n",
              "\n",
              "[5 rows x 3 columns]"
            ]
          },
          "metadata": {
            "tags": []
          },
          "execution_count": 13
        }
      ]
    },
    {
      "cell_type": "markdown",
      "metadata": {
        "id": "TcYdvVM-7Gnp",
        "colab_type": "text"
      },
      "source": [
        "Ordinal encoding of multiclass feature \"product\" into target"
      ]
    },
    {
      "cell_type": "code",
      "metadata": {
        "id": "9Zl2G7036Gzr",
        "colab_type": "code",
        "colab": {}
      },
      "source": [
        "from sklearn.preprocessing import OrdinalEncoder\n",
        "enc = OrdinalEncoder()\n",
        "enc.fit(comp_df[['Product']])\n",
        "comp_df['target'] = enc.transform(comp_df[['Product']])\n",
        "comp_df['target']=comp_df['target'].astype(int)"
      ],
      "execution_count": 14,
      "outputs": []
    },
    {
      "cell_type": "code",
      "metadata": {
        "id": "02Q8Vo4n-2pD",
        "colab_type": "code",
        "colab": {
          "base_uri": "https://localhost:8080/",
          "height": 779
        },
        "outputId": "8b064d38-8bfe-4053-fdbc-ed437bebaf85"
      },
      "source": [
        "comp_df.head()"
      ],
      "execution_count": 15,
      "outputs": [
        {
          "output_type": "execute_result",
          "data": {
            "text/html": [
              "<div>\n",
              "<style scoped>\n",
              "    .dataframe tbody tr th:only-of-type {\n",
              "        vertical-align: middle;\n",
              "    }\n",
              "\n",
              "    .dataframe tbody tr th {\n",
              "        vertical-align: top;\n",
              "    }\n",
              "\n",
              "    .dataframe thead th {\n",
              "        text-align: right;\n",
              "    }\n",
              "</style>\n",
              "<table border=\"1\" class=\"dataframe\">\n",
              "  <thead>\n",
              "    <tr style=\"text-align: right;\">\n",
              "      <th></th>\n",
              "      <th>complaints</th>\n",
              "      <th>Product</th>\n",
              "      <th>Company</th>\n",
              "      <th>target</th>\n",
              "    </tr>\n",
              "  </thead>\n",
              "  <tbody>\n",
              "    <tr>\n",
              "      <th>0</th>\n",
              "      <td>This auto loan was opened on XX/XX/2020 in XXXX, NC with BB &amp; T in my name. I have NEVER been to North Carolina and I have NEVER been a resident. I have filed a dispute twice through my credit bureaus but both times BB &amp; T has claimed that this is an accurate loan. Which I wasn't aware of until today. I have tried to contact BB &amp; T multiple times but I have never gotten through to a live person. I do n't drive and I have never owned a car before. I didn't have any knowledge of this account until I checked XXXXXXXX XXXX  and noticed it. I've tried twice to dispute it. Additionally I never received any bills or information about this account. This is my last resort in trying to remove this fraudulent loan off of my account.</td>\n",
              "      <td>Vehicle loan or lease</td>\n",
              "      <td>TRUIST FINANCIAL CORPORATION</td>\n",
              "      <td>5</td>\n",
              "    </tr>\n",
              "    <tr>\n",
              "      <th>1</th>\n",
              "      <td>In XXXX of 2019 I noticed a debt for {$620.00} on my credit which i believed was mine I thought speedy cash had bought one of my old debts and sold it to XXXX XXXX XXXX XXXX. I contacted XXXX XXXX XXXX XXXX and after several attempts of giving my full name, nothing came up in their system. I gave my social and the rep said the account popped up but DID NOT tell me that the account was under someone elses name and continued to let me make a payment. The payment was for {$120.00}. Confirmation number-XXXX. After realizing it was not my account, I called back to get my money back and inform them of the mistake. I was told i needed to mail them an FTC report and dispute letter to get my money back. I completed all of this and when i called again they said they transferred the account back to speedy cash for fraud review and I would need to contact them. After contacting them i was again told that i can not get my money back. The issue im having is this representative at XXXX XXXX played blind to obvious fraud and let an innocent person make a payment on someone elses debt and i want my money back.</td>\n",
              "      <td>Debt collection</td>\n",
              "      <td>CURO Intermediate Holdings</td>\n",
              "      <td>2</td>\n",
              "    </tr>\n",
              "    <tr>\n",
              "      <th>2</th>\n",
              "      <td>As stated from Capital One, XXXX XX/XX/XXXX and XXXX 2018, My wife and I went to several car dealerships to request for a car loan to get a used car. However, according to their credit requirements unfortunately my credit score was insufficient for the car loan approval at that time. It seemed as though they pulled my credit report multiple times.</td>\n",
              "      <td>Vehicle loan or lease</td>\n",
              "      <td>CAPITAL ONE FINANCIAL CORPORATION</td>\n",
              "      <td>5</td>\n",
              "    </tr>\n",
              "    <tr>\n",
              "      <th>3</th>\n",
              "      <td>Please see CFPB case XXXX. \\n\\nCapital One, in the letter they provided ( and attached to that case as their response ) said this : \" The funds were reversed and sent back to XXXX XXXX XXXX  on XX/XX/XXXX ''. \\n\\nXXXX XXXX XXXX  ( now XXXX XXXX  ) has not received these funds. Staff at XXXX XXXX  - and also staff at the account-holder 's business - have looked for return of my money ( {$650.00} ) and find nothing. \\n\\nCapital One needs to document - actually prove - they returned the funds, as stated in their letter. Capital One must provide electronic information, if the return was made that way, or document the paper check they sent back to XXXX XXXX. \\n\\nI've left 3 messages about this problem for the person who signed the letter ( XXXX ) from Capital One. I have received no call-backs. \\n\\nSummary : Capital One said they returned my money on XX/XX/XXXX : they did not. If they continue claim they did, then they need to prove that.</td>\n",
              "      <td>Checking or savings account</td>\n",
              "      <td>CAPITAL ONE FINANCIAL CORPORATION</td>\n",
              "      <td>0</td>\n",
              "    </tr>\n",
              "    <tr>\n",
              "      <th>4</th>\n",
              "      <td>This debt was incurred due to medical malpractice ( XXXX XXXX XXXX, XXXX, TX ). I asked the doctor to turn over my claim to his malpractice insurance company. This has cost me thousands of dollars to XXXX XXXX XXXX. I am still trying to collect damages from this doctor. He never responded and turned over me to collections Merchants and Professional Collection Bureau , Inc. I sent them a letter describing exactly this issue and instead of not contacting me and verifying my debt they start reporting this debt to the credit reporting agencies. They never verified the debt, like I asked and they never stopped it from being reported when I specifically told them not to, due to the circumstances above.</td>\n",
              "      <td>Debt collection</td>\n",
              "      <td>Merchants and Professional Bureau, Inc.</td>\n",
              "      <td>2</td>\n",
              "    </tr>\n",
              "  </tbody>\n",
              "</table>\n",
              "</div>"
            ],
            "text/plain": [
              "                                                                                                                                                                                                                                                                                                                                                                                                                                                                                                                                                                                                                                                                                                                                                                                                                                                                                                                                                                                                                                                                                                                                               complaints  ... target\n",
              "0  This auto loan was opened on XX/XX/2020 in XXXX, NC with BB & T in my name. I have NEVER been to North Carolina and I have NEVER been a resident. I have filed a dispute twice through my credit bureaus but both times BB & T has claimed that this is an accurate loan. Which I wasn't aware of until today. I have tried to contact BB & T multiple times but I have never gotten through to a live person. I do n't drive and I have never owned a car before. I didn't have any knowledge of this account until I checked XXXXXXXX XXXX  and noticed it. I've tried twice to dispute it. Additionally I never received any bills or information about this account. This is my last resort in trying to remove this fraudulent loan off of my account.                                                                                                                                                                                                                                                                                                                                                                                             ...  5    \n",
              "1  In XXXX of 2019 I noticed a debt for {$620.00} on my credit which i believed was mine I thought speedy cash had bought one of my old debts and sold it to XXXX XXXX XXXX XXXX. I contacted XXXX XXXX XXXX XXXX and after several attempts of giving my full name, nothing came up in their system. I gave my social and the rep said the account popped up but DID NOT tell me that the account was under someone elses name and continued to let me make a payment. The payment was for {$120.00}. Confirmation number-XXXX. After realizing it was not my account, I called back to get my money back and inform them of the mistake. I was told i needed to mail them an FTC report and dispute letter to get my money back. I completed all of this and when i called again they said they transferred the account back to speedy cash for fraud review and I would need to contact them. After contacting them i was again told that i can not get my money back. The issue im having is this representative at XXXX XXXX played blind to obvious fraud and let an innocent person make a payment on someone elses debt and i want my money back.  ...  2    \n",
              "2  As stated from Capital One, XXXX XX/XX/XXXX and XXXX 2018, My wife and I went to several car dealerships to request for a car loan to get a used car. However, according to their credit requirements unfortunately my credit score was insufficient for the car loan approval at that time. It seemed as though they pulled my credit report multiple times.                                                                                                                                                                                                                                                                                                                                                                                                                                                                                                                                                                                                                                                                                                                                                                                           ...  5    \n",
              "3  Please see CFPB case XXXX. \\n\\nCapital One, in the letter they provided ( and attached to that case as their response ) said this : \" The funds were reversed and sent back to XXXX XXXX XXXX  on XX/XX/XXXX ''. \\n\\nXXXX XXXX XXXX  ( now XXXX XXXX  ) has not received these funds. Staff at XXXX XXXX  - and also staff at the account-holder 's business - have looked for return of my money ( {$650.00} ) and find nothing. \\n\\nCapital One needs to document - actually prove - they returned the funds, as stated in their letter. Capital One must provide electronic information, if the return was made that way, or document the paper check they sent back to XXXX XXXX. \\n\\nI've left 3 messages about this problem for the person who signed the letter ( XXXX ) from Capital One. I have received no call-backs. \\n\\nSummary : Capital One said they returned my money on XX/XX/XXXX : they did not. If they continue claim they did, then they need to prove that.                                                                                                                                                                     ...  0    \n",
              "4  This debt was incurred due to medical malpractice ( XXXX XXXX XXXX, XXXX, TX ). I asked the doctor to turn over my claim to his malpractice insurance company. This has cost me thousands of dollars to XXXX XXXX XXXX. I am still trying to collect damages from this doctor. He never responded and turned over me to collections Merchants and Professional Collection Bureau , Inc. I sent them a letter describing exactly this issue and instead of not contacting me and verifying my debt they start reporting this debt to the credit reporting agencies. They never verified the debt, like I asked and they never stopped it from being reported when I specifically told them not to, due to the circumstances above.                                                                                                                                                                                                                                                                                                                                                                                                                       ...  2    \n",
              "\n",
              "[5 rows x 4 columns]"
            ]
          },
          "metadata": {
            "tags": []
          },
          "execution_count": 15
        }
      ]
    },
    {
      "cell_type": "markdown",
      "metadata": {
        "id": "7AIby-4n_btU",
        "colab_type": "text"
      },
      "source": [
        "Split dataset into train and test"
      ]
    },
    {
      "cell_type": "code",
      "metadata": {
        "id": "CggPOYyd_NVZ",
        "colab_type": "code",
        "colab": {}
      },
      "source": [
        "x_train,x_test = train_test_split(comp_df,test_size = 0.2,random_state = 111)"
      ],
      "execution_count": 16,
      "outputs": []
    },
    {
      "cell_type": "markdown",
      "metadata": {
        "id": "NtwyADr77XpX",
        "colab_type": "text"
      },
      "source": [
        "Preprocessing and Tokenization,vectorization of consumer complaints feature."
      ]
    },
    {
      "cell_type": "code",
      "metadata": {
        "id": "8l8xgwwgEIVB",
        "colab_type": "code",
        "colab": {}
      },
      "source": [
        "#stemmer = PorterStemmer()\n",
        "stemmer = nltk.stem.SnowballStemmer('english')"
      ],
      "execution_count": 17,
      "outputs": []
    },
    {
      "cell_type": "code",
      "metadata": {
        "id": "jU1zYSgzEvEV",
        "colab_type": "code",
        "colab": {
          "base_uri": "https://localhost:8080/",
          "height": 54
        },
        "outputId": "309f45a4-cc3a-4e58-f1f9-d7f9739d1800"
      },
      "source": [
        "nltk.download('stopwords')\n",
        "stop_words= set(nltk.corpus.stopwords.words('english'))"
      ],
      "execution_count": 18,
      "outputs": [
        {
          "output_type": "stream",
          "text": [
            "[nltk_data] Downloading package stopwords to /root/nltk_data...\n",
            "[nltk_data]   Unzipping corpora/stopwords.zip.\n"
          ],
          "name": "stdout"
        }
      ]
    },
    {
      "cell_type": "code",
      "metadata": {
        "id": "wUhNr_mGGKBW",
        "colab_type": "code",
        "colab": {
          "base_uri": "https://localhost:8080/",
          "height": 73
        },
        "outputId": "d0533d3b-6cdb-4365-86ca-5a97b7bb1cfb"
      },
      "source": [
        "import nltk\n",
        "nltk.download('punkt')"
      ],
      "execution_count": 19,
      "outputs": [
        {
          "output_type": "stream",
          "text": [
            "[nltk_data] Downloading package punkt to /root/nltk_data...\n",
            "[nltk_data]   Unzipping tokenizers/punkt.zip.\n"
          ],
          "name": "stdout"
        },
        {
          "output_type": "execute_result",
          "data": {
            "text/plain": [
              "True"
            ]
          },
          "metadata": {
            "tags": []
          },
          "execution_count": 19
        }
      ]
    },
    {
      "cell_type": "code",
      "metadata": {
        "id": "LaV0l-hhFHab",
        "colab_type": "code",
        "colab": {}
      },
      "source": [
        "def tokenize(text):\n",
        "  tokens = [word for word in nltk.word_tokenize(text) if (len(word) > 3 and len(word.strip('Xx/')) > 2 and \n",
        "                                                          len(re.sub('\\d+','',word.strip('Xx'))) > 3)]\n",
        "  tokens = map(str.lower,tokens)\n",
        "  stems = [stemmer.stem(item) for item in tokens if (item not in stop_words)]\n",
        "  return stems"
      ],
      "execution_count": 20,
      "outputs": []
    },
    {
      "cell_type": "code",
      "metadata": {
        "id": "azAQHsY4FUFb",
        "colab_type": "code",
        "colab": {}
      },
      "source": [
        "vectorizer_tf = TfidfVectorizer(tokenizer=tokenize, stop_words=None, max_df=0.75, max_features=1000, lowercase=False, ngram_range=(1,2))\n",
        "train_vectors = vectorizer_tf.fit_transform(x_train.complaints)"
      ],
      "execution_count": 21,
      "outputs": []
    },
    {
      "cell_type": "code",
      "metadata": {
        "id": "h5gkzp9ZG3e0",
        "colab_type": "code",
        "colab": {}
      },
      "source": [
        "vetorizer_tf = TfidfVectorizer(tokenizer=tokenize,stop_words=None, max_df = 0.75,max_features=1000,lowercase=False,\n",
        "                               ngram_range=(1,2))\n",
        "train_vectors = vetorizer_tf.fit_transform(x_train.complaints) "
      ],
      "execution_count": 22,
      "outputs": []
    },
    {
      "cell_type": "code",
      "metadata": {
        "id": "DMdKRHkxGRRG",
        "colab_type": "code",
        "colab": {}
      },
      "source": [
        "test_vectors = vectorizer_tf.transform(x_test.complaints)"
      ],
      "execution_count": 23,
      "outputs": []
    },
    {
      "cell_type": "code",
      "metadata": {
        "id": "uhHR4xHgGd2c",
        "colab_type": "code",
        "colab": {
          "base_uri": "https://localhost:8080/",
          "height": 36
        },
        "outputId": "da2850f1-f0f2-4dc9-c099-5f51ae2a7f2e"
      },
      "source": [
        "x_train.shape"
      ],
      "execution_count": 24,
      "outputs": [
        {
          "output_type": "execute_result",
          "data": {
            "text/plain": [
              "(45962, 4)"
            ]
          },
          "metadata": {
            "tags": []
          },
          "execution_count": 24
        }
      ]
    },
    {
      "cell_type": "markdown",
      "metadata": {
        "id": "dyoQPQ0d7vSm",
        "colab_type": "text"
      },
      "source": [
        "Calculating class weigths of each class"
      ]
    },
    {
      "cell_type": "code",
      "metadata": {
        "id": "rQX6jfkAts2A",
        "colab_type": "code",
        "colab": {
          "base_uri": "https://localhost:8080/",
          "height": 56
        },
        "outputId": "95a2e6a7-f730-49a7-ce33-9fb2a59f67e1"
      },
      "source": [
        "from sklearn.utils import class_weight\n",
        "class_weights = list(class_weight.compute_class_weight('balanced',\n",
        "                                             np.unique(x_train['target']),\n",
        "                                             x_train['target']))\n",
        "print('class_weights',class_weights)"
      ],
      "execution_count": 25,
      "outputs": [
        {
          "output_type": "stream",
          "text": [
            "class_weights [1.382232647660291, 0.7219918316054037, 0.43830939711239536, 0.9841127098321343, 3.275046316089497, 3.466214177978884]\n"
          ],
          "name": "stdout"
        }
      ]
    },
    {
      "cell_type": "code",
      "metadata": {
        "id": "wV2rvyqa6Epp",
        "colab_type": "code",
        "colab": {
          "base_uri": "https://localhost:8080/",
          "height": 36
        },
        "outputId": "6bfd6480-4dae-4543-89e7-4c963826a68a"
      },
      "source": [
        "weights = np.ones(x_train.shape[0], dtype = 'float')\n",
        "print(weights)\n",
        "for i, val in enumerate(x_train['target']):\n",
        "  weights[i] = class_weights[val]"
      ],
      "execution_count": 26,
      "outputs": [
        {
          "output_type": "stream",
          "text": [
            "[1. 1. 1. ... 1. 1. 1.]\n"
          ],
          "name": "stdout"
        }
      ]
    },
    {
      "cell_type": "markdown",
      "metadata": {
        "id": "G3lLYzxAAElz",
        "colab_type": "text"
      },
      "source": [
        "Training Xgboost model "
      ]
    },
    {
      "cell_type": "code",
      "metadata": {
        "id": "G0CpclcVGoG4",
        "colab_type": "code",
        "colab": {}
      },
      "source": [
        "import xgboost as xgb\n",
        "from sklearn.metrics import classification_report,confusion_matrix"
      ],
      "execution_count": 94,
      "outputs": []
    },
    {
      "cell_type": "code",
      "metadata": {
        "id": "gpJhXpsyJzzD",
        "colab_type": "code",
        "colab": {
          "base_uri": "https://localhost:8080/",
          "height": 186
        },
        "outputId": "64fad491-ee52-42d6-d17f-18888c2f0300"
      },
      "source": [
        "xgb_clf = xgb.XGBClassifier(n_estimators=100, learning_rate=0.05, max_depth=6\n",
        "                            , objective='multi:softprob', random_state=10, **{\"updater\": \"grow_gpu\"})\n",
        "xgb_clf.fit(train_vectors,x_train['target'],sample_weight = weights)"
      ],
      "execution_count": 27,
      "outputs": [
        {
          "output_type": "stream",
          "text": [
            "[08:08:09] WARNING: /workspace/src/learner.cc:194: DANGER AHEAD: You have manually specified `updater` parameter. The `tree_method` parameter will be ignored. Incorrect sequence of updaters will produce undefined behavior. For common uses, we recommend using `tree_method` parameter instead.\n"
          ],
          "name": "stdout"
        },
        {
          "output_type": "execute_result",
          "data": {
            "text/plain": [
              "XGBClassifier(base_score=0.5, booster='gbtree', colsample_bylevel=1,\n",
              "              colsample_bynode=1, colsample_bytree=1, gamma=0,\n",
              "              learning_rate=0.05, max_delta_step=0, max_depth=6,\n",
              "              min_child_weight=1, missing=None, n_estimators=100, n_jobs=1,\n",
              "              nthread=None, objective='multi:softprob', random_state=10,\n",
              "              reg_alpha=0, reg_lambda=1, scale_pos_weight=1, seed=None,\n",
              "              silent=None, subsample=1, updater='grow_gpu', verbosity=1)"
            ]
          },
          "metadata": {
            "tags": []
          },
          "execution_count": 27
        }
      ]
    },
    {
      "cell_type": "code",
      "metadata": {
        "id": "Qc8Jh-bAM-d4",
        "colab_type": "code",
        "colab": {}
      },
      "source": [
        "predictions = xgb_clf.predict(test_vectors)"
      ],
      "execution_count": 28,
      "outputs": []
    },
    {
      "cell_type": "code",
      "metadata": {
        "id": "GhDK9P3mC085",
        "colab_type": "code",
        "colab": {
          "base_uri": "https://localhost:8080/",
          "height": 36
        },
        "outputId": "e2e43aa5-2450-4fed-d45d-7c128270db26"
      },
      "source": [
        "print(\"Accuracy score (test): {0:.3f}\".format(xgb_clf.score(test_vectors, x_test['target'])))"
      ],
      "execution_count": 29,
      "outputs": [
        {
          "output_type": "stream",
          "text": [
            "Accuracy score (test): 0.849\n"
          ],
          "name": "stdout"
        }
      ]
    },
    {
      "cell_type": "code",
      "metadata": {
        "id": "eZoTdpyQPP6r",
        "colab_type": "code",
        "colab": {
          "base_uri": "https://localhost:8080/",
          "height": 129
        },
        "outputId": "fac9becc-bf8d-4cd9-897a-4a41a6d5261d"
      },
      "source": [
        "cm = confusion_matrix(x_test['target'], predictions)\n",
        "print(cm)"
      ],
      "execution_count": 30,
      "outputs": [
        {
          "output_type": "stream",
          "text": [
            "[[1293   92   32   17    5   22]\n",
            " [ 172 2114  169   19    2  107]\n",
            " [ 109  187 3644   80   87  188]\n",
            " [  32   19   42 1779   55   88]\n",
            " [   3    6   27    4  514   57]\n",
            " [  12   19   52   10   21  412]]\n"
          ],
          "name": "stdout"
        }
      ]
    },
    {
      "cell_type": "code",
      "metadata": {
        "id": "R5YvRCkSPRlz",
        "colab_type": "code",
        "colab": {
          "base_uri": "https://localhost:8080/",
          "height": 278
        },
        "outputId": "f480b949-5ddd-4eb5-a960-0d6cbf087394"
      },
      "source": [
        "print('classification_report :\\n',classification_report(x_test['target'], predictions))"
      ],
      "execution_count": 31,
      "outputs": [
        {
          "output_type": "stream",
          "text": [
            "classification_report :\n",
            "               precision    recall  f1-score   support\n",
            "\n",
            "           0       0.80      0.89      0.84      1461\n",
            "           1       0.87      0.82      0.84      2583\n",
            "           2       0.92      0.85      0.88      4295\n",
            "           3       0.93      0.88      0.91      2015\n",
            "           4       0.75      0.84      0.79       611\n",
            "           5       0.47      0.78      0.59       526\n",
            "\n",
            "    accuracy                           0.85     11491\n",
            "   macro avg       0.79      0.84      0.81     11491\n",
            "weighted avg       0.86      0.85      0.85     11491\n",
            "\n"
          ],
          "name": "stdout"
        }
      ]
    },
    {
      "cell_type": "markdown",
      "metadata": {
        "id": "eOS-9sJlpxiD",
        "colab_type": "text"
      },
      "source": [
        "Multiclass classification using ANN\n",
        "\n",
        ">\n"
      ]
    },
    {
      "cell_type": "code",
      "metadata": {
        "id": "VMvnujeYDAi3",
        "colab_type": "code",
        "colab": {}
      },
      "source": [
        "import tensorflow as tf\n",
        "import tensorflow_hub as hub\n",
        "import datetime"
      ],
      "execution_count": 27,
      "outputs": []
    },
    {
      "cell_type": "code",
      "metadata": {
        "id": "5BrOjBvK6XDb",
        "colab_type": "code",
        "colab": {}
      },
      "source": [
        "from sklearn.utils import class_weight\n",
        "class_weights = list(class_weight.compute_class_weight('balanced',\n",
        "                                             np.unique(df['Product']),\n",
        "                                             df['Product']))\n",
        "class_weights.sort()"
      ],
      "execution_count": 54,
      "outputs": []
    },
    {
      "cell_type": "code",
      "metadata": {
        "id": "UYqxP3Y5Viu8",
        "colab_type": "code",
        "colab": {
          "base_uri": "https://localhost:8080/",
          "height": 129
        },
        "outputId": "e4a681ab-90f1-4bf1-c863-a3682b450113"
      },
      "source": [
        "nweights  ={}\n",
        "for index, weight in enumerate(class_weights) :\n",
        "  nweights[index]=weight\n",
        "nweights"
      ],
      "execution_count": 55,
      "outputs": [
        {
          "output_type": "execute_result",
          "data": {
            "text/plain": [
              "{0: 0.43980801028844385,\n",
              " 1: 0.7258015614340938,\n",
              " 2: 0.9771915501581794,\n",
              " 3: 1.3673425674710837,\n",
              " 4: 3.2459322033898306,\n",
              " 5: 3.4998172514619883}"
            ]
          },
          "metadata": {
            "tags": []
          },
          "execution_count": 55
        }
      ]
    },
    {
      "cell_type": "code",
      "metadata": {
        "id": "_N8IzlZR8dQ3",
        "colab_type": "code",
        "colab": {}
      },
      "source": [
        "x_train,x_test = train_test_split(df,test_size = 0.2,random_state = 111)"
      ],
      "execution_count": 73,
      "outputs": []
    },
    {
      "cell_type": "code",
      "metadata": {
        "id": "31bpPdZOPUpq",
        "colab_type": "code",
        "colab": {}
      },
      "source": [
        "dataset_train = tf.data.Dataset.from_tensor_slices((x_train['Consumer complaint narrative'].values, x_train['Product'].values))\n",
        "dataset_test = tf.data.Dataset.from_tensor_slices((x_test['Consumer complaint narrative'].values, x_test['Product'].values))"
      ],
      "execution_count": 75,
      "outputs": []
    },
    {
      "cell_type": "code",
      "metadata": {
        "id": "Gbp_zdfxQIRZ",
        "colab_type": "code",
        "colab": {}
      },
      "source": [
        "table = tf.lookup.StaticHashTable(\n",
        "    initializer=tf.lookup.KeyValueTensorInitializer(\n",
        "        keys=tf.constant(['Debt collection', 'Credit card or prepaid card', 'Mortgage', 'Checking or savings account', 'Student loan', 'Vehicle loan or lease']),\n",
        "        values=tf.constant([0, 1, 2, 3, 4, 5]),\n",
        "    ),\n",
        "    default_value=tf.constant(-1),\n",
        "    name=\"target_encoding\"\n",
        ")\n",
        "\n",
        "@tf.function\n",
        "def target(x):\n",
        "  return table.lookup(x)"
      ],
      "execution_count": 76,
      "outputs": []
    },
    {
      "cell_type": "code",
      "metadata": {
        "id": "HqQ7R5UGQ7jd",
        "colab_type": "code",
        "colab": {}
      },
      "source": [
        "def show_batch(dataset, size=5):\n",
        "  for batch, label in dataset.take(size):\n",
        "      print(batch.numpy())\n",
        "      print(target(label).numpy())"
      ],
      "execution_count": 77,
      "outputs": []
    },
    {
      "cell_type": "code",
      "metadata": {
        "id": "4TZJMWlARhAG",
        "colab_type": "code",
        "colab": {
          "base_uri": "https://localhost:8080/",
          "height": 260
        },
        "outputId": "fe6ff578-fafc-4ec0-c95b-f58674b4f111"
      },
      "source": [
        "show_batch(dataset_test,6)"
      ],
      "execution_count": 78,
      "outputs": [
        {
          "output_type": "stream",
          "text": [
            "b'I have a business checking account at BB & T. On XX/XX/2019, I attempted to deposit a check into my account and I received a message stating that I was over my monthly mobile deposit limit. I was confused because it was the first of the month and I had not deposited any checks since the previous month. I called BB & T and they said that I couldnt deposit checks into business accounts via the mobile app even though I had done that before. \\n\\nI was instructed to open a personal account, into which I could deposit checks via the mobile app. I was told that if I opened the account online I would have immediate access, that I could link my personal and business accounts, and immediately be able to transfer money between them. \\n\\nOn XX/XX/XXXX, I opened my personal account online. Though I successfully opened online, I did not have online access as I had been promised. Because I was traveling in an area where there were no BB & T branches, I could not go into a branch until XX/XX/2019. In the intervening time, my business account became overdrawn. I had the money in my personal account to bring it back into the black, but BB & T could not make the transfer until I went into a branch. During this time, I incurred an astonishing {$320.00} in overdraft fees in my business account because I had no way of transferring money between the two accounts. \\n\\nWhen I went into the branch, I met with XXXX XXXX in XXXX XXXX County, Florida. She investigated the accounts and told me she would link them and that I would have online access in XXXX hours. The online access still never material, I was not able to transfer money and I received an additional {$36.00} overdraft fee. This brought the total to {$360.00} in overdraft fees. \\n\\nI had only opened the second account on BB & Ts advice ; I could have had my customer send a bank wire directly into business account in the first week of XXXX to keep the account positive. My TOTAL deposits between the two accounts was always positive. \\n\\nI requested a refund and was told they would not refund any of the fees.'\n",
            "3\n",
            "b'To who it may concern, My concern is regarding Shellpoint Mortgage Servicing Company. This company has received my monthly mortgage payments and have failed to account it as payments received. My bank has sent me proof the account was cleared and paid. This company is trying to foreclosed on my house and has sent me a letter indicating they sent my file to their Loss Mitigation dept. The person who they assigned it to is XXXX XXXX XXXX x XXXX. Their corporate number is XXXX. \\n\\nI have can send proof of my claim from above should you need it. Please assist.'\n",
            "2\n",
            "b'I contacted XXXX about fraudulent charges that were made on my account and the customer service representative told me that they wouldnt be able to issue anew card or remove my fraudulent charges since the account was closed due to non-payment. I was unaware of this these charging that were made.. To my knowledge I didnt owe a payment because the account wasnt being used.'\n",
            "1\n",
            "b'I first applied for the Fedloan Serving program in XXXX in hopes of getting loan forgiveness since I\\'ve been paying on my student loans since late XXXX or early XXXX and I have been a public servant since XXXX, XXXX. I have never missed a payment to any of the various loan companies that owned my loans. The Fedloan Program turned me down in XXXX, saying my loans, which were originally Federal Stafford Loans, did not qualify me for the Program. In XXXX, XXXX, I was solicited by XXXX XXXX   and told I could get into this program to reduce my loan payments. I was charged {$690.00} by XXXX XXXX to get me into the Fedloan Serving program. My loan payments went down to $ XXXX/month for the first year. In XXXX, XXXX, Fedloan Servicing informed me via email that I needed to recertify my \" income-driven repayment plan. Their customer service helped me submit the form XXXX XXXX ) via the internet and it involved the IRS. For reasons I don\\'t understand, Fedloan is now increasing my monthly payments to {$380.00}, effective XX/XX/XXXX. This is a 60 % increase. On XX/XX/XXXX, I called Fedloan regarding this issue. The customer service person suggested I ask for a recalculation and provide pay-stubs rather than IRS information. On the same call, I was transferred to a second agent who listened to my concern and suggested I get out of the Fedloan Program since I really didn\\'t qualify for it anyway and I could save money by going to a regular payment plan with a different servicer such as XXXX which had serviced my loan previously. I feel like I\\'ve been miss-lead by the Fedloan Serving Program and by Mr. XXXX XXXX, the case manager at XXXX XXXX ( http : //www.nexum-servicing.com ). After receiving my {$690.00}, I was never able to talk to XXXX on the phone again. He had convinced me I could save money with Fedloan and he told me my payments would go down to {$0.00} when I retire from State Service in XXXX. He told me I would receive loan forgiveness once my payments went to {$0.00}. I have concluded his advise was incorrect and or miss-leading. I regret having my loan transferred to the Fedloan Program because its representatives have indicated I will not receive loan forgiveness for my 20 years of public service. I am very concerned about the cost of my student loan debt, especially since I intend to retire from State service in XXXX. I am also concerned about how I will be able to afford these student loan payments once I am receiving a pension. I am also very disappointed that I haven\\'t been able to \" qualify \\'\\' for loan forgiveness based on my long years of public service. I think this whole Fedloan Program is complete scam and I have been duped.'\n",
            "4\n",
            "b'On several occasions ( XXXX ) I have tried to reach someone in costumer service today XX/XX/2020 I tried again to get through and was on hold for over 20 minutes and hung up. \\n\\n3 Years ago I have made no more than {$600.00} in purchases, and while making payments on my account with a {$9000.00} limit the interest charges are deducted from the credit limit and the interest was based on the balance each month. this left my interest and charge fess higher than my monthly payment which amounted to around {$240.00} each month. \\n\\nIn all of this time the interest was so big that it completely eat up the limit balance on the card, which left in me in a vicious cycle of never paying down the money owed. with in 2 years I was able to get the balance down {$2000.00} and I asked Walmart Capital One to reduce the balance down. Now it is back up to the high bank fees and interest charges that have again gone beyond what I can afford monthly the {$240.00}. This is a unfair and infantile game that is forced on me as an consumer.'\n",
            "1\n",
            "b'Hi, If i am writing today, is to bring to your attention something that happened between myself and XXXX dealership of XXXX XXXX FL. \\n\\nOn XX/XX/2019, date of my end of lease experience, i headed out to the XXXX dealership of XXXX XXXX to return my vehicle and try to negotiate to buy or lease another vehicle. \\nAs soon as i walked in with my wife, we have been introduced to the salesman and the sales manager of this dealership. We then started to negotiate the return of our leased vehicle and asked the team there to please help us getting an interesting deal on another vehicle and explaining our difficult credit situation of my wife and myself. \\nThe leased car we were returning had a that time about {$2800.00} dollar amount of excess millage on the lease terms, and we were assured by the sales manager that by purchasing a new XXXX that day at the dealership that we will be able to negotiate that bill with the financial department of the company later on. Also, when you return a lease, you must pay a excess wear and use of the car but can be waived that fee again by purchasing a new vehicle. \\nAfter a couple of hours of negotiation and a lot of persuasion from the sales team who promised us a lot of benefits, we ended up returning the lease and purchasing a brand new XXXX vehicle. \\nDue to our bad credit history, we got a the new car financed with an APR of 8.39 %. \\n\\nA couple days following our purchase, me and my wife got very surprised about 2 things. \\n\\nFirst of all, as we both checked our credit on XXXX XXXX, we realized that the dealership submitted a lot of credit check to our accounts, not even telling us that will happen. This really affected both our credit history and score. Knowing our credit situation at the dealership, i really do believe that we got kind of scammed that time. \\n\\nSecond, after receiving the end of lease bill by mail, i have contacted the financial department like i was instructed by the sales manager at the dealership in order to discuss it, knowing that he promised me since i have bought a new XXXX vehicle. \\nover the phone with the financial consultant, i was very surprised to hear that nothing was possible, no negotiation on the total amount and no waiver for the excess wear as well, since that apparently we did not get the new car financed with the in-house XXXX financing agency. thing that nor the salesman, or the sales manager told us upon signing the new car purchasing contract. \\n\\ni really need your help in that matter, i really believe we got scammed by the XXXX team, pursuing us to buy a brand new XXXX vehicle in order to get all the benefits that we will never get at the end.'\n",
            "5\n"
          ],
          "name": "stdout"
        }
      ]
    },
    {
      "cell_type": "code",
      "metadata": {
        "id": "vzaBr9mvRh3d",
        "colab_type": "code",
        "colab": {}
      },
      "source": [
        "def fetch(text, labels):\n",
        "  return text, tf.one_hot(target(labels),6)"
      ],
      "execution_count": 79,
      "outputs": []
    },
    {
      "cell_type": "code",
      "metadata": {
        "id": "841H516SSfCx",
        "colab_type": "code",
        "colab": {}
      },
      "source": [
        "train_data_f=dataset_train.map(fetch)\n",
        "test_data_f=dataset_test.map(fetch)"
      ],
      "execution_count": 80,
      "outputs": []
    },
    {
      "cell_type": "code",
      "metadata": {
        "id": "VB4vPQ-3Sgqk",
        "colab_type": "code",
        "colab": {
          "base_uri": "https://localhost:8080/",
          "height": 74
        },
        "outputId": "df10d6c4-2544-421b-8bad-fa0a9000dc20"
      },
      "source": [
        "next(iter(train_data_f))"
      ],
      "execution_count": 81,
      "outputs": [
        {
          "output_type": "execute_result",
          "data": {
            "text/plain": [
              "(<tf.Tensor: shape=(), dtype=string, numpy=b\"The below complaint was submitted to the CFPB numerous times prior, the Wells Fargo rep, XXXX XXXX, replies with the same general form response stating numerous attempts at resolution have been made and exhausted which is a lie. He also attempts to state he can not comment due to past litigation which is also a lie, he reverts to this reply so as to avoid detailing any supposed attempt at resolution which he can not as there is none. Further, he should be aware of resolution which is to refund fees totaling {$610.00} and has not done so, no refund received to date. Please see complaint below. The below complaint was submitted prior, a duplicate form response received from XXXX XXXX with Wells Fargo, one of several. Based on this, my complaint was not addressed. Further, a reply in XXXX was never received as was mentioned. XXXX replied by stating numerous attempts at resolution have been made but has not detailed one, there was no contact from anyone at Wells Fargo aside from XXXX XXXX whom offered a bogus settlement offer. Wells Fargo failed to honor this settlement offer made to me in XXXX by XXXX XXXX, a rep with Wells Fargo. The offer amount, {$3700.00}, was never received and it is now XXXX. Prior to this, I requested a refund in the amount of {$610.00} which includes mainly overdraft fees charged to accounts not authorized. A total of four mediation request forms were sent in, XXXX XXXX contacted me, offered settlement amount in XXXX, no payment received to date.. Since no payment was received in re, additional CFPB complaints were filed. XXXX replied most recently stating numerous attempts at resolution were made, which is a lie and seems to provide the same general form response to each and every complaint. I can assure the CPFB there were no such attempts and Wells Fargo is fully aware of resolution which has been detailed numerous times. I will reiterate again here, refund of {$610.00} will resolve matter since no settlement payment was received. I have contacted the XXXX XXXX XXXX Attorney as per instructions from a XXXX, a rep with class counsel for Wells Fargo Settlement. XXXX informed me Wells Fargo is involved in at least three class actions, XXXX Settlement, WF Settlement, also a settlement with all 50 states, the Attorney General of each state.. I have also contacted Attorney General here in Connecticut as well as California, advised them of my situation. I suspect XXXX will provide the same carbon copy reply in which case I can assure any third party Wells Fargo claims of attempts at resolution are 100 % false and bogus, he has not detailed one such attempt. Most recently as of, XX/XX/30, I spoke with XXXX XXXX in their Executive Office, she could not find any cases under my name despite numerous CFPB complaints filed as well as OCC, ( Office Of Comptroller Currency ). It appears Wells Fargo has not looked into this matter, evident in the fact they have not opened any cases in re. Another mediation request form was received recently, I've filed out a total of four of these forms, sent them in, was denied mediation. Complaints marked as unable to respond directly or due to litigation will be resubmitted\">,\n",
              " <tf.Tensor: shape=(6,), dtype=float32, numpy=array([0., 0., 0., 1., 0., 0.], dtype=float32)>)"
            ]
          },
          "metadata": {
            "tags": []
          },
          "execution_count": 81
        }
      ]
    },
    {
      "cell_type": "code",
      "metadata": {
        "id": "9552qFnHTiMV",
        "colab_type": "code",
        "colab": {
          "base_uri": "https://localhost:8080/",
          "height": 260
        },
        "outputId": "43c4bb9e-7985-46c1-81c3-f1860d5a3498"
      },
      "source": [
        "train_data, train_labels = next(iter(train_data_f.batch(5)))\n",
        "train_data, train_labels"
      ],
      "execution_count": 82,
      "outputs": [
        {
          "output_type": "execute_result",
          "data": {
            "text/plain": [
              "(<tf.Tensor: shape=(5,), dtype=string, numpy=\n",
              " array([b\"The below complaint was submitted to the CFPB numerous times prior, the Wells Fargo rep, XXXX XXXX, replies with the same general form response stating numerous attempts at resolution have been made and exhausted which is a lie. He also attempts to state he can not comment due to past litigation which is also a lie, he reverts to this reply so as to avoid detailing any supposed attempt at resolution which he can not as there is none. Further, he should be aware of resolution which is to refund fees totaling {$610.00} and has not done so, no refund received to date. Please see complaint below. The below complaint was submitted prior, a duplicate form response received from XXXX XXXX with Wells Fargo, one of several. Based on this, my complaint was not addressed. Further, a reply in XXXX was never received as was mentioned. XXXX replied by stating numerous attempts at resolution have been made but has not detailed one, there was no contact from anyone at Wells Fargo aside from XXXX XXXX whom offered a bogus settlement offer. Wells Fargo failed to honor this settlement offer made to me in XXXX by XXXX XXXX, a rep with Wells Fargo. The offer amount, {$3700.00}, was never received and it is now XXXX. Prior to this, I requested a refund in the amount of {$610.00} which includes mainly overdraft fees charged to accounts not authorized. A total of four mediation request forms were sent in, XXXX XXXX contacted me, offered settlement amount in XXXX, no payment received to date.. Since no payment was received in re, additional CFPB complaints were filed. XXXX replied most recently stating numerous attempts at resolution were made, which is a lie and seems to provide the same general form response to each and every complaint. I can assure the CPFB there were no such attempts and Wells Fargo is fully aware of resolution which has been detailed numerous times. I will reiterate again here, refund of {$610.00} will resolve matter since no settlement payment was received. I have contacted the XXXX XXXX XXXX Attorney as per instructions from a XXXX, a rep with class counsel for Wells Fargo Settlement. XXXX informed me Wells Fargo is involved in at least three class actions, XXXX Settlement, WF Settlement, also a settlement with all 50 states, the Attorney General of each state.. I have also contacted Attorney General here in Connecticut as well as California, advised them of my situation. I suspect XXXX will provide the same carbon copy reply in which case I can assure any third party Wells Fargo claims of attempts at resolution are 100 % false and bogus, he has not detailed one such attempt. Most recently as of, XX/XX/30, I spoke with XXXX XXXX in their Executive Office, she could not find any cases under my name despite numerous CFPB complaints filed as well as OCC, ( Office Of Comptroller Currency ). It appears Wells Fargo has not looked into this matter, evident in the fact they have not opened any cases in re. Another mediation request form was received recently, I've filed out a total of four of these forms, sent them in, was denied mediation. Complaints marked as unable to respond directly or due to litigation will be resubmitted\",\n",
              "        b'The following items were all placed on my credit report at the same time. Phoenix Financial Services called and threatened to ruin by credit by placing the same item in collection multiple times. There should be only one ( 1 ) item, not four as submitted by Phoenix Financial Services. There is also an error in the Opened date. This one medical debt is several years old. I did not go to the doctor XX/XX/2019. I do not think Collection Agencies should be able to deliberately place multiple items on your credit in an effort to threaten me into paying. Can you please help me. My credit score dropped 24 points due to the four ( 4 ) Collection items added erroneously by Phoenix Financial Services. \\n\\nXXXX XXXX XXXX Phoenix Financial Servic Opened XX/XX/2019 {$1200.00} Original creditor : XXXX XXXX XXXX XXXX XXXX XXXX Phoenix Financial Servic Opened XX/XX/2019 {$1200.00} Original creditor : XXXXXXXX XXXX XXXX XXXX XXXX XXXX Phoenix Financial Servic Opened XX/XX/2019 {$1200.00} Original creditor : XXXX XXXX XXXX XXXX XXXX XXXX Phoenix Financial Servic Opened XX/XX/2019 {$1200.00} Original creditor : XXXX XXXX XXXX XXXX XXXX XXXX',\n",
              "        b'Credit Management Lp. Did not contact about a debit that they received from XXXX XXXX XXXX. They did not follow Fair Debt Collection Practices Act and Consumer Credit Protection Act.',\n",
              "        b'My husband and I visited XXXX for vacation from XX/XX/XXXX through XX/XX/XXXX. We have no family, friends, nor business connections in the country - we were simply there to visit a new place and experience a new culture. Except for one elegant XXXX XXXX XXXX   dinner ( {$200.00} USD ) and a cash advance to take out Euros ( {$250.00} USD ), all of our purchases were below {$70.00} USD. \\n\\nOn our final day in XXXX, XX/XX/XXXX, we were eating lunch at a restaurant and I planned to pay with my Chase Sapphire card. The waiter said there was a problem with the wireless internet and took my Chase Sapphire card inside the restaurant ( we were seated outside on the patio ). He was in possession of my Chase Sapphire care for approximately 10 minutes outside of my supervision. He returned and claimed the internet was down and said we could pay in USD or go get Euros from a specific ATM that he directed us to in the back of a neighboring store. I opted to go to the ATM and get Euros in order to pay for our lunch because we were worried we would get scammed on the exchange rate he would try and offer us if we paid in USD. \\n\\nAfter resolving the issue at the restaurant and returning home within the next couple of days, I noticed a fraudulent charge for {$5500.00} on my Chase Sapphire card and another attempted charge for about the same amount that was declined by Chase. The statement showed that the fraudulent charge was made at XXXX XXXX, and after some research online I found this to be a marble gravestone/tomb manufacturing business. The charge was made on XX/XX/XXXX, it posted to my account on XX/XX/XXXX, and I noticed the charge on XX/XX/XXXX and immediately called Chase to dispute the charge. My mind immediately jumped to the situation with the restaurant ( see above ) when the card was out of my possession for about 10 minutes and I was directed to use a specific ATM. I relayed these same facts during my dispute claim and answered all questions and provided all details they asked for, and then I waited to hear back from Chase with a resolution. In addition to disputing the fraudulent charge with Chase, I also tracked down an email for the vendor where the fraudulent charge was made, XXXX XXXX, and emailed them on multiple occasions ( XX/XX/XXXX and XX/XX/XXXX ) to explain the situation and request a refund for the fraudulent charge. I also submitted the same inquiry and request on the \" messages \\'\\' portion of their website on XX/XX/XXXX. I haven\\'t heard any response from the business as of XX/XX/XXXX. Due to their lack of response, I also left a negative, public review of the business on XXXX explaining their lack of response to my inquiries about the fraudulent charge in hopes of deterring any potential REAL customers of using their services in the future. \\n\\nOn XX/XX/XXXX, I finally received a letter from Chase saying that my fraud claim had been denied because they deemed that I had received a benefit from the fraudulent charge. I immediately started the appeal process by calling Chase. After waiting on hold for 3 hours, I was told to send an email with my credit card number and full name to XXXX in order to file an appeal. Despite my security concerns of sending my credit card number via email, I felt I had no other options and on XX/XX/XXXX, I sent an email to XXXX with my name and credit card number and requested to start the appeal process. I also requested the following information : a copy of the receipt of this fraudulent charge ( {$5500.00} on XX/XX/XXXX ) and/or all relevant information ( time, date, address, swipe/chip/punch in numbers, etc. ), a copy of the receipts of all other charges made on XX/XX/XXXX on this account and/or all relevant information ( time, date, address, swipe/chip/punch in numbers, etc. ), and a copy of the report that includes a. ) all information that I provided to Chase about this fraudulent charge and b. ) an explanation of exactly why it was denied and deemed that I received a benefit. \\n\\nAfter not hearing back from Chase, I sent another email to XXXX on XX/XX/XXXX to confirm that my appeal request had been received and to request a phone call or email to confirm that it had been received and let me know that the appeal was in process. \\n\\nI received a phone call from Chase \\'s fraud dispute review department on XX/XX/XXXX confirming that my appeal request had been received. The representative who I talked with told me that he believed my claim was indeed fraudulent and relayed that he didn\\'t believe the fraud department looked at the claim closely enough. He said that they never requested a receipt from the vendor ( XXXX XXXX ) to compare the signature with other receipts on file and he also shared that there were two successive charges in two  different counties in XXXX that they didn\\'t take into account when reviewing it because I couldn\\'t possibly be in two places at once. I also continued to request to see the receipt for the fraudulent charge, receipts for all other charges on XX/XX/XXXX, and the report that detailed the denial of the fraudulent claim. As of XX/XX/XXXX, Chase refuses to send me this information about my fraudulent charge claim, and I believe I have a right to see this as a Chase customer. \\n\\nOn XX/XX/XXXX, I received notice that my appeal of my fraudulent charge dispute had been denied, meaning that Chase is holding me responsible to pay the {$5500.00} fraudulent charge. It is at this point that I am filing a complaint with the CFPB.',\n",
              "        b'I deposited a client check in the amount of {$10000.00} and funds were transferred from XXXX XXXX  to Wells Fargo on XX/XX/XXXX. Wells Fargo has put a hold on the funds until XX/XX/XXXX. They have given me a range of excuses such as there were not sufficient funds in the payees account to a suspicious signature. I have asked Wells Fargo to contact the XXXX XXXX   employee that handles the account and XXXX XXXX continues to refuse to release the funds to my account. This appears to be yet another Wells Fargo scam. They are holding my funds and earning interest from XX/XX/XXXX to XX/XX/XXXX. I have full documentation.'],\n",
              "       dtype=object)>, <tf.Tensor: shape=(5, 6), dtype=float32, numpy=\n",
              " array([[0., 0., 0., 1., 0., 0.],\n",
              "        [1., 0., 0., 0., 0., 0.],\n",
              "        [1., 0., 0., 0., 0., 0.],\n",
              "        [0., 1., 0., 0., 0., 0.],\n",
              "        [0., 0., 0., 1., 0., 0.]], dtype=float32)>)"
            ]
          },
          "metadata": {
            "tags": []
          },
          "execution_count": 82
        }
      ]
    },
    {
      "cell_type": "markdown",
      "metadata": {
        "id": "CDhsx2EFFwnE",
        "colab_type": "text"
      },
      "source": [
        "Adding embedding layer over hub.keraslayer and training ANN model using transfer learning"
      ]
    },
    {
      "cell_type": "code",
      "metadata": {
        "id": "5r2g1-bWTu42",
        "colab_type": "code",
        "colab": {
          "base_uri": "https://localhost:8080/",
          "height": 968
        },
        "outputId": "1f26b114-9654-41f7-e5c2-4720b7f0a56b"
      },
      "source": [
        "embedding = \"https://tfhub.dev/google/tf2-preview/nnlm-en-dim128/1\"\n",
        "hub_layer = hub.KerasLayer(embedding, output_shape=[128], input_shape=[], \n",
        "                           dtype=tf.string, trainable=True)\n",
        "hub_layer(train_data[:1])"
      ],
      "execution_count": 83,
      "outputs": [
        {
          "output_type": "stream",
          "text": [
            "WARNING:tensorflow:7 out of the last 7 calls to <function recreate_function.<locals>.restored_function_body at 0x7fafe979ed08> triggered tf.function retracing. Tracing is expensive and the excessive number of tracings could be due to (1) creating @tf.function repeatedly in a loop, (2) passing tensors with different shapes, (3) passing Python objects instead of tensors. For (1), please define your @tf.function outside of the loop. For (2), @tf.function has experimental_relax_shapes=True option that relaxes argument shapes that can avoid unnecessary retracing. For (3), please refer to https://www.tensorflow.org/tutorials/customization/performance#python_or_tensor_args and https://www.tensorflow.org/api_docs/python/tf/function for  more details.\n"
          ],
          "name": "stdout"
        },
        {
          "output_type": "stream",
          "text": [
            "WARNING:tensorflow:7 out of the last 7 calls to <function recreate_function.<locals>.restored_function_body at 0x7fafe979ed08> triggered tf.function retracing. Tracing is expensive and the excessive number of tracings could be due to (1) creating @tf.function repeatedly in a loop, (2) passing tensors with different shapes, (3) passing Python objects instead of tensors. For (1), please define your @tf.function outside of the loop. For (2), @tf.function has experimental_relax_shapes=True option that relaxes argument shapes that can avoid unnecessary retracing. For (3), please refer to https://www.tensorflow.org/tutorials/customization/performance#python_or_tensor_args and https://www.tensorflow.org/api_docs/python/tf/function for  more details.\n"
          ],
          "name": "stderr"
        },
        {
          "output_type": "stream",
          "text": [
            "WARNING:tensorflow:8 out of the last 8 calls to <function recreate_function.<locals>.restored_function_body at 0x7fafe976b488> triggered tf.function retracing. Tracing is expensive and the excessive number of tracings could be due to (1) creating @tf.function repeatedly in a loop, (2) passing tensors with different shapes, (3) passing Python objects instead of tensors. For (1), please define your @tf.function outside of the loop. For (2), @tf.function has experimental_relax_shapes=True option that relaxes argument shapes that can avoid unnecessary retracing. For (3), please refer to https://www.tensorflow.org/tutorials/customization/performance#python_or_tensor_args and https://www.tensorflow.org/api_docs/python/tf/function for  more details.\n"
          ],
          "name": "stdout"
        },
        {
          "output_type": "stream",
          "text": [
            "WARNING:tensorflow:8 out of the last 8 calls to <function recreate_function.<locals>.restored_function_body at 0x7fafe976b488> triggered tf.function retracing. Tracing is expensive and the excessive number of tracings could be due to (1) creating @tf.function repeatedly in a loop, (2) passing tensors with different shapes, (3) passing Python objects instead of tensors. For (1), please define your @tf.function outside of the loop. For (2), @tf.function has experimental_relax_shapes=True option that relaxes argument shapes that can avoid unnecessary retracing. For (3), please refer to https://www.tensorflow.org/tutorials/customization/performance#python_or_tensor_args and https://www.tensorflow.org/api_docs/python/tf/function for  more details.\n"
          ],
          "name": "stderr"
        },
        {
          "output_type": "stream",
          "text": [
            "WARNING:tensorflow:9 out of the last 9 calls to <function recreate_function.<locals>.restored_function_body at 0x7fafe979e9d8> triggered tf.function retracing. Tracing is expensive and the excessive number of tracings could be due to (1) creating @tf.function repeatedly in a loop, (2) passing tensors with different shapes, (3) passing Python objects instead of tensors. For (1), please define your @tf.function outside of the loop. For (2), @tf.function has experimental_relax_shapes=True option that relaxes argument shapes that can avoid unnecessary retracing. For (3), please refer to https://www.tensorflow.org/tutorials/customization/performance#python_or_tensor_args and https://www.tensorflow.org/api_docs/python/tf/function for  more details.\n"
          ],
          "name": "stdout"
        },
        {
          "output_type": "stream",
          "text": [
            "WARNING:tensorflow:9 out of the last 9 calls to <function recreate_function.<locals>.restored_function_body at 0x7fafe979e9d8> triggered tf.function retracing. Tracing is expensive and the excessive number of tracings could be due to (1) creating @tf.function repeatedly in a loop, (2) passing tensors with different shapes, (3) passing Python objects instead of tensors. For (1), please define your @tf.function outside of the loop. For (2), @tf.function has experimental_relax_shapes=True option that relaxes argument shapes that can avoid unnecessary retracing. For (3), please refer to https://www.tensorflow.org/tutorials/customization/performance#python_or_tensor_args and https://www.tensorflow.org/api_docs/python/tf/function for  more details.\n"
          ],
          "name": "stderr"
        },
        {
          "output_type": "execute_result",
          "data": {
            "text/plain": [
              "<tf.Tensor: shape=(1, 128), dtype=float32, numpy=\n",
              "array([[ 1.92570090e+00,  1.04540564e-01,  1.63910031e-01,\n",
              "        -1.11070231e-01, -5.49944043e-02,  7.91307315e-02,\n",
              "         4.86127660e-02,  2.75555283e-01, -8.30120146e-02,\n",
              "         1.80027023e-01,  1.44885316e-01, -1.59288287e-01,\n",
              "        -1.94997236e-01, -4.00722414e-01, -1.37285963e-01,\n",
              "         3.61927778e-01, -3.39035988e-01, -3.47756073e-02,\n",
              "        -6.16503179e-01,  1.44515026e+00,  3.19949985e-01,\n",
              "         3.94565135e-01, -3.26071948e-01,  2.14843497e-01,\n",
              "        -3.63146365e-02, -4.13899511e-01,  1.67138502e-01,\n",
              "        -5.15444636e-01, -1.83536708e-01,  3.90481912e-02,\n",
              "         9.09547061e-02, -2.18187377e-01,  1.16193175e-01,\n",
              "        -2.13140637e-01,  2.62742490e-01,  3.77820075e-01,\n",
              "        -2.58993626e-01, -5.08686364e-01, -2.61283755e-01,\n",
              "        -5.75724877e-02,  5.14812469e-02, -1.78749681e-01,\n",
              "        -8.78547728e-02, -5.78522384e-01,  3.56190205e-01,\n",
              "         3.41897160e-01, -3.03279817e-01, -3.03550176e-02,\n",
              "        -4.70123470e-01, -6.96404815e-01,  1.62134487e-02,\n",
              "        -3.87831405e-02,  6.85421228e-02,  1.98899955e-01,\n",
              "        -7.82101810e-01, -1.35865554e-01, -1.31267518e-01,\n",
              "         1.27851665e-01,  1.52239844e-01, -6.36673495e-02,\n",
              "        -5.62574565e-01,  1.91325899e-02,  3.62875342e-01,\n",
              "        -6.03927970e-02, -2.69309342e-01,  1.28497675e-01,\n",
              "        -1.49441198e-01, -3.01388532e-01, -1.52954683e-01,\n",
              "        -3.83431196e-01,  2.21330807e-01, -1.67852506e-01,\n",
              "         3.89674446e-04,  3.65042575e-02,  4.15654242e-01,\n",
              "         1.34781197e-01, -2.18334168e-01, -7.22495019e-01,\n",
              "        -1.58712074e-01, -1.74010061e-02,  3.06339294e-01,\n",
              "        -5.35981134e-02,  4.18226235e-02,  2.28714302e-01,\n",
              "         7.09751621e-02, -1.26337364e-01, -2.77076334e-01,\n",
              "         1.18260644e-01,  1.11755562e+00,  7.18856454e-01,\n",
              "        -3.11814666e-01,  2.28470713e-01, -1.82997324e-02,\n",
              "        -8.61904323e-01,  3.73503327e-01,  1.84735581e-01,\n",
              "         2.92017497e-02, -3.68890353e-02, -6.15575194e-01,\n",
              "         4.54581738e-01, -1.55454516e-01,  1.36230350e-01,\n",
              "        -1.23098336e-01,  1.63286954e-01, -1.19803384e-01,\n",
              "         1.46758646e-01,  1.66010574e-01, -5.56072772e-01,\n",
              "        -2.62751460e-01,  1.49585783e-01, -1.43142784e+00,\n",
              "        -2.67757148e-01, -2.60787487e-01, -5.25002778e-01,\n",
              "         2.55412459e-01, -5.43521106e-01,  1.06378779e-01,\n",
              "         5.77819467e-01, -2.61732899e-02,  5.84780760e-02,\n",
              "         4.17428136e-01, -3.53781693e-02,  3.45459767e-02,\n",
              "         1.40228033e-01, -5.39429858e-02,  5.79532623e-01,\n",
              "        -1.59285054e-01,  4.09487247e-01]], dtype=float32)>"
            ]
          },
          "metadata": {
            "tags": []
          },
          "execution_count": 83
        }
      ]
    },
    {
      "cell_type": "code",
      "metadata": {
        "id": "7yy-Fa-VT5Gc",
        "colab_type": "code",
        "colab": {
          "base_uri": "https://localhost:8080/",
          "height": 538
        },
        "outputId": "da95784f-6112-4a6a-953e-3559dafc4ee3"
      },
      "source": [
        "model = tf.keras.Sequential()\n",
        "model.add(hub_layer)\n",
        "for units in [128, 128, 64 , 32]:\n",
        "  model.add(tf.keras.layers.Dense(units, activation='relu'))\n",
        "  model.add(tf.keras.layers.Dropout(0.3))\n",
        "model.add(tf.keras.layers.Dense(6, activation='softmax'))\n",
        "\n",
        "model.summary()"
      ],
      "execution_count": 84,
      "outputs": [
        {
          "output_type": "stream",
          "text": [
            "Model: \"sequential_3\"\n",
            "_________________________________________________________________\n",
            "Layer (type)                 Output Shape              Param #   \n",
            "=================================================================\n",
            "keras_layer_2 (KerasLayer)   (None, 128)               124642688 \n",
            "_________________________________________________________________\n",
            "dense_12 (Dense)             (None, 128)               16512     \n",
            "_________________________________________________________________\n",
            "dropout_9 (Dropout)          (None, 128)               0         \n",
            "_________________________________________________________________\n",
            "dense_13 (Dense)             (None, 128)               16512     \n",
            "_________________________________________________________________\n",
            "dropout_10 (Dropout)         (None, 128)               0         \n",
            "_________________________________________________________________\n",
            "dense_14 (Dense)             (None, 64)                8256      \n",
            "_________________________________________________________________\n",
            "dropout_11 (Dropout)         (None, 64)                0         \n",
            "_________________________________________________________________\n",
            "dense_15 (Dense)             (None, 32)                2080      \n",
            "_________________________________________________________________\n",
            "dropout_12 (Dropout)         (None, 32)                0         \n",
            "_________________________________________________________________\n",
            "dense_16 (Dense)             (None, 6)                 198       \n",
            "=================================================================\n",
            "Total params: 124,686,246\n",
            "Trainable params: 124,686,246\n",
            "Non-trainable params: 0\n",
            "_________________________________________________________________\n"
          ],
          "name": "stdout"
        }
      ]
    },
    {
      "cell_type": "code",
      "metadata": {
        "id": "jghmE1S0UWHK",
        "colab_type": "code",
        "colab": {}
      },
      "source": [
        "model.compile(optimizer='adam',\n",
        "              loss=tf.keras.losses.CategoricalCrossentropy(from_logits=True),\n",
        "              metrics=['accuracy']\n",
        "              )"
      ],
      "execution_count": 85,
      "outputs": []
    },
    {
      "cell_type": "code",
      "metadata": {
        "id": "ti-l9j5ZUakx",
        "colab_type": "code",
        "colab": {}
      },
      "source": [
        "train_data_f=train_data_f.shuffle(70000).batch(512)\n",
        "test_data_f=test_data_f.batch(512)"
      ],
      "execution_count": 86,
      "outputs": []
    },
    {
      "cell_type": "code",
      "metadata": {
        "id": "E_uNEUprUcWs",
        "colab_type": "code",
        "colab": {
          "base_uri": "https://localhost:8080/",
          "height": 409
        },
        "outputId": "e051964e-48bc-4edf-ee12-0344395d9aff"
      },
      "source": [
        "history = model.fit(train_data_f,\n",
        "                    epochs=10,\n",
        "                    validation_data=test_data_f,\n",
        "                    verbose=1,\n",
        "                    class_weight=nweights)"
      ],
      "execution_count": 93,
      "outputs": [
        {
          "output_type": "stream",
          "text": [
            "Epoch 1/10\n",
            "90/90 [==============================] - 5s 59ms/step - loss: 1.1402 - accuracy: 0.8955 - val_loss: 1.1676 - val_accuracy: 0.8750\n",
            "Epoch 2/10\n",
            "90/90 [==============================] - 5s 58ms/step - loss: 1.1284 - accuracy: 0.9087 - val_loss: 1.1656 - val_accuracy: 0.8769\n",
            "Epoch 3/10\n",
            "90/90 [==============================] - 5s 58ms/step - loss: 1.1212 - accuracy: 0.9120 - val_loss: 1.1652 - val_accuracy: 0.8777\n",
            "Epoch 4/10\n",
            "90/90 [==============================] - 5s 58ms/step - loss: 1.1152 - accuracy: 0.9200 - val_loss: 1.1676 - val_accuracy: 0.8748\n",
            "Epoch 5/10\n",
            "90/90 [==============================] - 5s 58ms/step - loss: 1.1124 - accuracy: 0.9218 - val_loss: 1.1722 - val_accuracy: 0.8705\n",
            "Epoch 6/10\n",
            "90/90 [==============================] - 5s 58ms/step - loss: 1.1103 - accuracy: 0.9242 - val_loss: 1.1664 - val_accuracy: 0.8759\n",
            "Epoch 7/10\n",
            "90/90 [==============================] - 5s 60ms/step - loss: 1.1069 - accuracy: 0.9279 - val_loss: 1.1640 - val_accuracy: 0.8783\n",
            "Epoch 8/10\n",
            "90/90 [==============================] - 5s 60ms/step - loss: 1.1064 - accuracy: 0.9277 - val_loss: 1.1659 - val_accuracy: 0.8776\n",
            "Epoch 9/10\n",
            "90/90 [==============================] - 5s 59ms/step - loss: 1.1024 - accuracy: 0.9322 - val_loss: 1.1679 - val_accuracy: 0.8749\n",
            "Epoch 10/10\n",
            "90/90 [==============================] - 5s 58ms/step - loss: 1.1027 - accuracy: 0.9326 - val_loss: 1.1630 - val_accuracy: 0.8797\n"
          ],
          "name": "stdout"
        }
      ]
    },
    {
      "cell_type": "code",
      "metadata": {
        "id": "5pkRJ1MMV8z9",
        "colab_type": "code",
        "colab": {}
      },
      "source": [
        "tlen = len(list(dataset_test))"
      ],
      "execution_count": 88,
      "outputs": []
    },
    {
      "cell_type": "code",
      "metadata": {
        "id": "Em72u-9UV9xQ",
        "colab_type": "code",
        "colab": {
          "base_uri": "https://localhost:8080/",
          "height": 54
        },
        "outputId": "44e5942b-b711-4e05-f2bb-9a19b7c5097b"
      },
      "source": [
        "results = model.evaluate(dataset_test.map(fetch).batch(tlen), verbose=2)\n",
        "print(results)"
      ],
      "execution_count": 89,
      "outputs": [
        {
          "output_type": "stream",
          "text": [
            "1/1 - 0s - loss: 1.1801 - accuracy: 0.8631\n",
            "[1.1800822019577026, 0.8631102442741394]\n"
          ],
          "name": "stdout"
        }
      ]
    },
    {
      "cell_type": "code",
      "metadata": {
        "id": "qN-TtfnsWBEW",
        "colab_type": "code",
        "colab": {}
      },
      "source": [
        "test_data, test_labels = next(iter(dataset_test.map(fetch).batch(45963)))"
      ],
      "execution_count": 90,
      "outputs": []
    },
    {
      "cell_type": "code",
      "metadata": {
        "id": "dB-OjuyeYR2B",
        "colab_type": "code",
        "colab": {}
      },
      "source": [
        "y_pred=model.predict(test_data)"
      ],
      "execution_count": 91,
      "outputs": []
    },
    {
      "cell_type": "code",
      "metadata": {
        "id": "L2svunwNYVJR",
        "colab_type": "code",
        "colab": {
          "base_uri": "https://localhost:8080/",
          "height": 259
        },
        "outputId": "34b04e39-0d43-4274-af73-27999fb12166"
      },
      "source": [
        "print(classification_report(test_labels.numpy().argmax(axis=1), y_pred.argmax(axis=1)))"
      ],
      "execution_count": 95,
      "outputs": [
        {
          "output_type": "stream",
          "text": [
            "              precision    recall  f1-score   support\n",
            "\n",
            "           0       0.96      0.86      0.91      4295\n",
            "           1       0.86      0.84      0.85      2583\n",
            "           2       0.93      0.89      0.91      2015\n",
            "           3       0.81      0.88      0.84      1461\n",
            "           4       0.78      0.85      0.82       611\n",
            "           5       0.49      0.87      0.62       526\n",
            "\n",
            "    accuracy                           0.86     11491\n",
            "   macro avg       0.80      0.87      0.83     11491\n",
            "weighted avg       0.88      0.86      0.87     11491\n",
            "\n"
          ],
          "name": "stdout"
        }
      ]
    },
    {
      "cell_type": "code",
      "metadata": {
        "id": "LEIJXfm8YY6A",
        "colab_type": "code",
        "colab": {
          "base_uri": "https://localhost:8080/",
          "height": 129
        },
        "outputId": "7f5443e5-02f1-491b-b2d9-3fd266aa9a21"
      },
      "source": [
        "confusion_matrix(test_labels.numpy().argmax(axis=1), y_pred.argmax(axis=1))"
      ],
      "execution_count": 96,
      "outputs": [
        {
          "output_type": "execute_result",
          "data": {
            "text/plain": [
              "array([[3688,  192,   72,   75,   78,  190],\n",
              "       [  83, 2162,   17,  179,   21,  121],\n",
              "       [  33,   17, 1803,   35,   32,   95],\n",
              "       [  13,  113,   24, 1287,    5,   19],\n",
              "       [  17,   10,    1,    6,  521,   56],\n",
              "       [  19,   14,   13,   14,    9,  457]])"
            ]
          },
          "metadata": {
            "tags": []
          },
          "execution_count": 96
        }
      ]
    }
  ]
}